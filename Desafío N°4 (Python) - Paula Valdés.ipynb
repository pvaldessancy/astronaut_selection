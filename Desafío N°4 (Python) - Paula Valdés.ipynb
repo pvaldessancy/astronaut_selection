{
 "cells": [
  {
   "cell_type": "markdown",
   "id": "0435b670",
   "metadata": {},
   "source": [
    "# Desafío - Tipos y estructuras de Datos (Parte II)"
   ]
  },
  {
   "cell_type": "markdown",
   "id": "b7246985",
   "metadata": {},
   "source": [
    "Para desarrollar este desafío se utilizará el archivo \"resumen_resultados_astronautas.csv\"\n",
    "El IMC es una medida importante que nos ayuda a determinar si una persona tiene un peso saludable para poder ser un astronauta. Para calcularlo se utiliza la fórmula: IMC = m / h * h\n",
    "\n",
    "Donde \"m\" corresponde al peso del astronauta en kilogramos, y \"h\" su estatura en metros.\n"
   ]
  },
  {
   "cell_type": "markdown",
   "id": "3a7820db",
   "metadata": {},
   "source": [
    "El rendimiento en las diferentes evaluaciones permitirá también aceptar o rechazar a los postulantes. Para ello realizaremos las siguientes acciones:"
   ]
  },
  {
   "cell_type": "code",
   "execution_count": null,
   "id": "a3474ba7",
   "metadata": {},
   "outputs": [],
   "source": [
    "### 1. Crea un DataFrame con el archivo entregado:\n",
    "\n",
    "import pandas as pd #Importamos la librería pandas, la cual es utilizada para trabajar con dataset a través de dataframes (datos estructurados en 2 dimensiones: filas y columnas)\n",
    "df = pd.read_csv(\"resumen_resultados_astronautas.csv\") #Definimos como df a nuestro dataframe el cual será cargado desde un archivo csv\n",
    "df"
   ]
  },
  {
   "cell_type": "code",
   "execution_count": null,
   "id": "3d92ec90",
   "metadata": {},
   "outputs": [],
   "source": [
    "### 2. Crea la columna \"IMC\" usando la fórmula entregada.\n",
    "\n",
    "df['IMC'] = df['peso']/((df['altura']/100)**2) #Creamos una nueva columna \"IMC\" cuyos valores estarán dados por un cálculo. Dado que \"h\" está en centímetros en el dataset, dividimos por 100 para sacar el valor en metros.\n",
    "df['IMC'] = df['IMC'].round(1) #Redondeamos el valor obtenido a solo 1 decimal, para ello ocupamos .round(1)\n",
    "df"
   ]
  },
  {
   "cell_type": "code",
   "execution_count": null,
   "id": "48a89f6f",
   "metadata": {},
   "outputs": [],
   "source": [
    "### 3. Crea la columna \"promedio_evaluaciones\" con el promedio de las 4 columnas de evaluaciones. \n",
    "\n",
    "# Mediante el siguiente código crearemos la columna \"media\" cuyos valores se obtendrán a partir de un calculo del promedio entre todas las columnas que contengan una evaluación. Se utiliza el método .mean que nos permite calcular la media en este subconjunto de datos y el argumento (axis=1) le indica al programa que la media debe calcularse para cada fila.\n",
    "df['media']= df[['evaluacion_fisica','evaluacion_psicologica','evaluacion_adaptativa','evaluacion_medica']].mean(axis=1)\n",
    "df\n"
   ]
  },
  {
   "cell_type": "code",
   "execution_count": null,
   "id": "e38193e4",
   "metadata": {},
   "outputs": [],
   "source": [
    "# Adicionalmente, podemos calcular la media por cada columna con el siguiente código:\n",
    "column_mean = df.mean(numeric_only=True)\n",
    "column_mean"
   ]
  },
  {
   "cell_type": "code",
   "execution_count": null,
   "id": "ae0ed184",
   "metadata": {},
   "outputs": [],
   "source": [
    "### Si el IMC está entre 18.5 y 24.9, entonces el candidato tendrá un IMC adecuado para ser astronauta.\n",
    "### Filtra el DataFrame para obtener solo aquellas filas donde el IMC esté dentro de los límites entregados.\n",
    "\n",
    "rango_adecuado = df[(df['IMC'] >= 18.5) & (df['IMC'] <= 24.9)] # Realizamos el filtro \"rango_adecuado\" donde especificamos los valores de IMC que se nos solicitan.\n",
    "rango_adecuado #El resultado muestra solo los casos en los cuales el rango está dentro de lo solicitado"
   ]
  },
  {
   "cell_type": "code",
   "execution_count": null,
   "id": "7a3dee43",
   "metadata": {},
   "outputs": [],
   "source": [
    "### 4. El promedio de las 4 evaluaciones debe ser mayor o igual a 87. \n",
    "\n",
    "media_adecuado = df[(df['media'] >= 87)] # Realizamos el filtro \"media_adecuado\" donde se nos solicita que el valor sea igual o mayor a 87\n",
    "media_adecuado # El dataframe se muestra filtrado por la condición anterior indicada.\n"
   ]
  },
  {
   "cell_type": "code",
   "execution_count": null,
   "id": "bfbeddcc",
   "metadata": {},
   "outputs": [],
   "source": [
    "### Filtra el DataFrame resultante y agrega esta condición al filtro aplicado en el paso anterior.\n",
    "\n",
    "df_filtrado = df[(df['IMC'] >= 18.5) & (df['IMC'] <= 24.9) & (df['media'] >= 87)] #En este código combinaremos los dos filtros, tanto de IMC como de media, por ello indicamos la condición \"&\" para que se cumplan ambas\n",
    "df_filtrado # Solo 12 candidatos cumplen ambas condiciones. Se muestra a continuación:"
   ]
  },
  {
   "cell_type": "code",
   "execution_count": null,
   "id": "8241b553",
   "metadata": {},
   "outputs": [],
   "source": [
    "### 5. Reinicia el índice del DataFrame resultante.\n",
    "df_filtrado.reset_index(inplace=True) # Generaremos un dataframe a partir de los resultados anteriores. Este df será llamado \"df_filtrado\"\n",
    "df_filtrado"
   ]
  },
  {
   "cell_type": "code",
   "execution_count": null,
   "id": "66d79258",
   "metadata": {
    "scrolled": false
   },
   "outputs": [],
   "source": [
    "### 6. Modifica el valor de la columna \"califica\", para que diga \"Si\" en todas las filas del DataFrame resultante.\n",
    "df_filtrado.loc[df_filtrado['califica'] == 'No', 'califica'] = 'Si' # Sobre el df \"df_filtrado\" realizaremos la modificación de los valores de la columna \"califica\", cambiando los valores \"No\" por \"Si\". Para ello se crea un máscara \"df_filtrado['califica']\"=='No' la cual chequeará cada fila en la columna \"califica\" para ver si el valor en la columna es \"No\".\n",
    "df_filtrado # Utilizamos .loc que es un indexador utilizado para trabajar sobre especificas filas y columnas en un dataframe."
   ]
  },
  {
   "cell_type": "code",
   "execution_count": null,
   "id": "3577f6b3",
   "metadata": {},
   "outputs": [],
   "source": [
    "### 7.Exporta el DataFrame resultante a un archivo .csv separado por comas con el nombre \"astronautas_calificados.csv\".\n",
    "\n",
    "df_filtrado.to_csv(\"astronautas_calificados.csv\", index = True, sep = ',', header = True) # A partir del df \"df_filtrado\" exportaremos los resultados a un csv. Especificamos que agregue un \"index\" por ello indicamos \"True\", en sep indicamos el tipo de separador y finalmente también indicamos que exporte la cabecera del df, para ello indicamos header = True\""
   ]
  }
 ],
 "metadata": {
  "kernelspec": {
   "display_name": "Python 3 (ipykernel)",
   "language": "python",
   "name": "python3"
  },
  "language_info": {
   "codemirror_mode": {
    "name": "ipython",
    "version": 3
   },
   "file_extension": ".py",
   "mimetype": "text/x-python",
   "name": "python",
   "nbconvert_exporter": "python",
   "pygments_lexer": "ipython3",
   "version": "3.11.4"
  }
 },
 "nbformat": 4,
 "nbformat_minor": 5
}
